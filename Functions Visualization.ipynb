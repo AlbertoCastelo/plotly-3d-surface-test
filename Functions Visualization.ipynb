{
 "cells": [
  {
   "cell_type": "markdown",
   "metadata": {},
   "source": [
    "# Functions 3D Visualization"
   ]
  },
  {
   "cell_type": "code",
   "execution_count": 1,
   "metadata": {
    "collapsed": true
   },
   "outputs": [],
   "source": [
    "import numpy as np\n",
    "%matplotlib inline"
   ]
  },
  {
   "cell_type": "code",
   "execution_count": 2,
   "metadata": {},
   "outputs": [],
   "source": [
    "import plotly \n",
    "import plotly.plotly as py\n",
    "import plotly.graph_objs as go\n",
    "# plotly.tools.set_credentials_file(username='acastelo', api_key='asdf')  # GET FROM PLOTLY PROFILE"
   ]
  },
  {
   "cell_type": "markdown",
   "metadata": {},
   "source": [
    "## Powell's Sum Function"
   ]
  },
  {
   "attachments": {
    "image.png": {
     "image/png": "[encoded data removed]"
    }
   },
   "cell_type": "markdown",
   "metadata": {},
   "source": [
    "![image.png](attachment:image.png)"
   ]
  },
  {
   "cell_type": "markdown",
   "metadata": {},
   "source": [
    "#### Function Definition"
   ]
  },
  {
   "cell_type": "code",
   "execution_count": 3,
   "metadata": {
    "collapsed": true
   },
   "outputs": [],
   "source": [
    "def powellSum(x):\n",
    "    expo = np.arange(2, 2+x.shape[0])\n",
    "    return np.sum(np.power(np.abs(x),expo))"
   ]
  },
  {
   "cell_type": "markdown",
   "metadata": {},
   "source": [
    "#### Function Testing"
   ]
  },
  {
   "cell_type": "code",
   "execution_count": 4,
   "metadata": {},
   "outputs": [],
   "source": [
    "assert powellSum(np.array([0,0])) == 0\n",
    "assert powellSum(np.array([0,0,0])) == 0\n",
    "assert powellSum(np.array([1,0])) == 1\n",
    "assert powellSum(np.array([0,1])) == 1\n",
    "assert powellSum(np.array([0.5,0])) == 0.25\n",
    "assert powellSum(np.array([0.5,0.5])) == 0.375"
   ]
  },
  {
   "cell_type": "code",
   "execution_count": 5,
   "metadata": {},
   "outputs": [],
   "source": [
    "# calculate values across domain\n",
    "x_1 = np.linspace(-1.0, 1.0, 101)\n",
    "x_2 = np.linspace(-1.0, 1.0, 101)\n",
    "\n",
    "len_1 = x_1.shape[0]\n",
    "len_2 = x_2.shape[0]\n",
    "\n",
    "\n",
    "\n",
    "z = np.zeros((len_1, len_2))\n",
    "for i in range(len_1):\n",
    "    for j in range(len_2):\n",
    "        x = np.array([x_1[i], x_2[j]])\n",
    "        z[i,j] = powellSum(x)\n"
   ]
  },
  {
   "cell_type": "code",
   "execution_count": 6,
   "metadata": {},
   "outputs": [
    {
     "data": {
      "text/html": [
       "<iframe id=\"igraph\" scrolling=\"no\" style=\"border:none;\" seamless=\"seamless\" src=\"https://plot.ly/~acastelo/2.embed\" height=\"500px\" width=\"500px\"></iframe>"
      ],
      "text/plain": [
       "<plotly.tools.PlotlyDisplay object>"
      ]
     },
     "execution_count": 6,
     "metadata": {},
     "output_type": "execute_result"
    }
   ],
   "source": [
    "title='Powell Sum Function'\n",
    "data = [go.Surface(z=z, x=x_1, y=x_2)]\n",
    "\n",
    "layout = go.Layout(\n",
    "    title=title,\n",
    "    autosize=True,\n",
    "    width=500,\n",
    "    height=500,\n",
    "    margin=dict(\n",
    "        l=65,\n",
    "        r=50,\n",
    "        b=65,\n",
    "        t=90\n",
    "    )\n",
    ")\n",
    "fig = go.Figure(data=data, layout=layout)\n",
    "py.iplot(fig, filename= title)"
   ]
  },
  {
   "cell_type": "markdown",
   "metadata": {},
   "source": [
    "## Xin-She Yang's Function No.4"
   ]
  },
  {
   "attachments": {
    "image.png": {
     "image/png": "[encoded data removed]"
    }
   },
   "cell_type": "markdown",
   "metadata": {},
   "source": [
    "![image.png](attachment:image.png)"
   ]
  },
  {
   "cell_type": "markdown",
   "metadata": {},
   "source": [
    "#### Function Definition"
   ]
  },
  {
   "cell_type": "code",
   "execution_count": 7,
   "metadata": {
    "collapsed": true
   },
   "outputs": [],
   "source": [
    "def yangs4(x):\n",
    "    # f = (a-b).c\n",
    "    a = np.sum(np.square(np.sin(x)))\n",
    "    b = np.exp(-np.sum(np.square(x)))\n",
    "    c = np.exp(-np.sum(np.square(np.sin(np.sqrt(np.abs(x))))))\n",
    "    return (a-b)*c"
   ]
  },
  {
   "cell_type": "markdown",
   "metadata": {},
   "source": [
    "#### Function Testing"
   ]
  },
  {
   "cell_type": "code",
   "execution_count": 8,
   "metadata": {
    "collapsed": true
   },
   "outputs": [],
   "source": [
    "assert yangs4(np.array([0,0])) == -1"
   ]
  },
  {
   "cell_type": "code",
   "execution_count": 9,
   "metadata": {
    "collapsed": true
   },
   "outputs": [],
   "source": [
    "# calculate values across domain\n",
    "x_1 = np.linspace(-10.0, 10.0, 101)\n",
    "x_2 = np.linspace(-10.0, 10.0, 101)\n",
    "\n",
    "len_1 = x_1.shape[0]\n",
    "len_2 = x_2.shape[0]\n",
    "\n",
    "z = np.zeros((len_1, len_2))\n",
    "for i in range(len_1):\n",
    "    for j in range(len_2):\n",
    "        x = np.array([x_1[i], x_2[j]])\n",
    "        z[i,j] = yangs4(x)\n"
   ]
  },
  {
   "cell_type": "code",
   "execution_count": 10,
   "metadata": {},
   "outputs": [
    {
     "data": {
      "text/html": [
       "<iframe id=\"igraph\" scrolling=\"no\" style=\"border:none;\" seamless=\"seamless\" src=\"https://plot.ly/~acastelo/4.embed\" height=\"500px\" width=\"500px\"></iframe>"
      ],
      "text/plain": [
       "<plotly.tools.PlotlyDisplay object>"
      ]
     },
     "execution_count": 10,
     "metadata": {},
     "output_type": "execute_result"
    }
   ],
   "source": [
    "title='Xin-She Yangs Function No.4'\n",
    "data = [go.Surface(z=z, x=x_1, y=x_2)]\n",
    "\n",
    "layout = go.Layout(\n",
    "    title=title,\n",
    "    autosize=True,\n",
    "    width=500,\n",
    "    height=500,\n",
    "    margin=dict(\n",
    "        l=65,\n",
    "        r=50,\n",
    "        b=65,\n",
    "        t=90\n",
    "    )\n",
    ")\n",
    "fig = go.Figure(data=data, layout=layout)\n",
    "py.iplot(fig, filename= title)"
   ]
  }
 ],
 "metadata": {
  "kernelspec": {
   "display_name": "Python 3",
   "language": "python",
   "name": "python3"
  },
  "language_info": {
   "codemirror_mode": {
    "name": "ipython",
    "version": 3
   },
   "file_extension": ".py",
   "mimetype": "text/x-python",
   "name": "python",
   "nbconvert_exporter": "python",
   "pygments_lexer": "ipython3",
   "version": "3.5.2"
  }
 },
 "nbformat": 4,
 "nbformat_minor": 2
}
